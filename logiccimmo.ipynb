{
 "cells": [
  {
   "cell_type": "code",
   "execution_count": 68,
   "metadata": {
    "collapsed": true
   },
   "outputs": [],
   "source": [
    "import os\n",
    "import re\n",
    "import time\n",
    "import yaml\n",
    "from bs4 import BeautifulSoup as Bs\n",
    "import pandas as pd\n",
    "from selenium import webdriver\n",
    "from selenium.webdriver import DesiredCapabilities"
   ]
  },
  {
   "cell_type": "code",
   "execution_count": null,
   "outputs": [],
   "source": [],
   "metadata": {
    "collapsed": false
   }
  },
  {
   "cell_type": "code",
   "execution_count": 69,
   "outputs": [],
   "source": [
    "def headers(Explorer):\n",
    "    with open(\"headers.yml\") as f_headers:\n",
    "        browser_headers = yaml.safe_load(f_headers)\n",
    "    return browser_headers[Explorer]"
   ],
   "metadata": {
    "collapsed": false
   }
  },
  {
   "cell_type": "code",
   "execution_count": 70,
   "outputs": [],
   "source": [
    "def get_page(count=1):\n",
    "    driver = webdriver.Firefox()\n",
    "    header = headers(\"Firefox\")\n",
    "    pages = []\n",
    "    for page_nb in range(1,count+1):\n",
    "        page_url =f'https://www.logic-immo.com/annonces-immobilier-paris-75-100_1-{page_nb}.html'\n",
    "        profile = webdriver.FirefoxProfile('C:/Users\\ASUS\\AppData\\Roaming\\Mozilla\\Firefox\\Profiles\\who2cfhg.default-release')\n",
    "        PROXY_HOST = \"12.12.12.123\"\n",
    "        PROXY_PORT = \"1234\"\n",
    "        profile.set_preference(\"network.proxy.type\", 1)\n",
    "        profile.set_preference(\"network.proxy.http\", PROXY_HOST)\n",
    "        profile.set_preference(\"network.proxy.http_port\", int(PROXY_PORT))\n",
    "        profile.set_preference(\"dom.webdriver.enabled\", False)\n",
    "        profile.set_preference('useAutomationExtension', False)\n",
    "        profile.update_preferences()\n",
    "        desired = DesiredCapabilities.FIREFOX\n",
    "\n",
    "        driver = webdriver.Firefox(firefox_profile=profile, desired_capabilities=desired)\n",
    "        driver.get(page_url)\n",
    "        time.sleep(10)\n",
    "        pages.append(driver.page_source.encode(\"utf-8\"))\n",
    "    return pages"
   ],
   "metadata": {
    "collapsed": false
   }
  },
  {
   "cell_type": "code",
   "execution_count": 71,
   "outputs": [
    {
     "name": "stderr",
     "output_type": "stream",
     "text": [
      "C:\\Users\\ASUS\\AppData\\Local\\Temp\\ipykernel_3956\\1890449775.py:7: DeprecationWarning: firefox_profile has been deprecated, please use an Options object\n",
      "  profile = webdriver.FirefoxProfile('C:/Users\\ASUS\\AppData\\Roaming\\Mozilla\\Firefox\\Profiles\\who2cfhg.default-release')\n"
     ]
    },
    {
     "ename": "TypeError",
     "evalue": "__init__() got an unexpected keyword argument 'firefox_profile'",
     "output_type": "error",
     "traceback": [
      "\u001B[1;31m---------------------------------------------------------------------------\u001B[0m",
      "\u001B[1;31mTypeError\u001B[0m                                 Traceback (most recent call last)",
      "Cell \u001B[1;32mIn[71], line 5\u001B[0m\n\u001B[0;32m      2\u001B[0m     get_page()\n\u001B[0;32m      4\u001B[0m \u001B[38;5;28;01mif\u001B[39;00m \u001B[38;5;18m__name__\u001B[39m \u001B[38;5;241m==\u001B[39m \u001B[38;5;124m\"\u001B[39m\u001B[38;5;124m__main__\u001B[39m\u001B[38;5;124m\"\u001B[39m:\n\u001B[1;32m----> 5\u001B[0m     \u001B[43mmain\u001B[49m\u001B[43m(\u001B[49m\u001B[43m)\u001B[49m\n",
      "Cell \u001B[1;32mIn[71], line 2\u001B[0m, in \u001B[0;36mmain\u001B[1;34m()\u001B[0m\n\u001B[0;32m      1\u001B[0m \u001B[38;5;28;01mdef\u001B[39;00m \u001B[38;5;21mmain\u001B[39m():\n\u001B[1;32m----> 2\u001B[0m     \u001B[43mget_page\u001B[49m\u001B[43m(\u001B[49m\u001B[43m)\u001B[49m\n",
      "Cell \u001B[1;32mIn[70], line 18\u001B[0m, in \u001B[0;36mget_page\u001B[1;34m(count)\u001B[0m\n\u001B[0;32m     15\u001B[0m profile\u001B[38;5;241m.\u001B[39mupdate_preferences()\n\u001B[0;32m     16\u001B[0m desired \u001B[38;5;241m=\u001B[39m DesiredCapabilities\u001B[38;5;241m.\u001B[39mFIREFOX\n\u001B[1;32m---> 18\u001B[0m driver \u001B[38;5;241m=\u001B[39m \u001B[43mwebdriver\u001B[49m\u001B[38;5;241;43m.\u001B[39;49m\u001B[43mFirefox\u001B[49m\u001B[43m(\u001B[49m\u001B[43mfirefox_profile\u001B[49m\u001B[38;5;241;43m=\u001B[39;49m\u001B[43mprofile\u001B[49m\u001B[43m,\u001B[49m\u001B[43m \u001B[49m\u001B[43mdesired_capabilities\u001B[49m\u001B[38;5;241;43m=\u001B[39;49m\u001B[43mdesired\u001B[49m\u001B[43m)\u001B[49m\n\u001B[0;32m     19\u001B[0m driver\u001B[38;5;241m.\u001B[39mget(page_url)\n\u001B[0;32m     20\u001B[0m time\u001B[38;5;241m.\u001B[39msleep(\u001B[38;5;241m10\u001B[39m)\n",
      "\u001B[1;31mTypeError\u001B[0m: __init__() got an unexpected keyword argument 'firefox_profile'"
     ]
    }
   ],
   "source": [
    "def main():\n",
    "    get_page()\n",
    "\n",
    "if __name__ == \"__main__\":\n",
    "    main()"
   ],
   "metadata": {
    "collapsed": false
   }
  }
 ],
 "metadata": {
  "kernelspec": {
   "display_name": "Python 3",
   "language": "python",
   "name": "python3"
  },
  "language_info": {
   "codemirror_mode": {
    "name": "ipython",
    "version": 2
   },
   "file_extension": ".py",
   "mimetype": "text/x-python",
   "name": "python",
   "nbconvert_exporter": "python",
   "pygments_lexer": "ipython2",
   "version": "2.7.6"
  }
 },
 "nbformat": 4,
 "nbformat_minor": 0
}
